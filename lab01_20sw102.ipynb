{
 "cells": [
  {
   "cell_type": "code",
   "execution_count": null,
   "metadata": {},
   "outputs": [],
   "source": [
    "var1 = 120\n",
    "var2 = 234\n",
    "print(\"var 1 = {}\".format(var1), \" ,\" ,\"var 2 = {}\".format(var2))"
   ]
  },
  {
   "cell_type": "code",
   "execution_count": null,
   "metadata": {},
   "outputs": [],
   "source": [
    "# use list indexing to determine the number of days in month\n",
    "\n",
    "days_in_months = [31, 28, 31, 30, 31, 30, 31, 31, 30, 31, 30, 31]\n",
    "\n",
    "month = 7  \n",
    "num_days = days_in_months[month]\n",
    "\n",
    "print(num_days) "
   ]
  },
  {
   "cell_type": "code",
   "execution_count": null,
   "metadata": {},
   "outputs": [],
   "source": [
    "# TODO: Modify this line so it prints the last three elements of the list\n",
    "\n",
    "\n",
    "\n",
    "eclipse_dates = ['June 21, 2001', 'December 4, 2002', 'November 23, 2003', 'March 29, 2006', 'August 1, 2008', 'July 22, 2009', 'July 11, 2010', 'November 13, 2012', 'March 20, 2015', 'March 9, 2016']\n",
    "\n",
    "recent_dates = eclipse_dates[-3:]\n",
    "\n",
    "print(recent_dates)\n"
   ]
  },
  {
   "cell_type": "code",
   "execution_count": null,
   "metadata": {},
   "outputs": [],
   "source": [
    "# Browse the complete list of string methods at:\n",
    "# https://docs.python.org/3/library/stdtypes.html#string-methods\n",
    "# and try them out here\n",
    "\n",
    "import string\n",
    "my_string = \"exploring the string\"\n",
    "\n",
    "print(my_string.lower())\n",
    "\n",
    "print(my_string.upper())\n",
    "\n",
    "print(my_string.capitalize())\n",
    "\n",
    "print(my_string.replace(\"exploring\", \"messing\"))\n",
    "\n",
    "print(my_string.split())\n",
    "\n",
    "print(my_string.startswith(\"Hello\"))\n",
    "\n",
    "print(my_string.endswith(\"World!\"))\n"
   ]
  }
 ],
 "metadata": {
  "kernelspec": {
   "display_name": "Python 3",
   "language": "python",
   "name": "python3"
  },
  "language_info": {
   "codemirror_mode": {
    "name": "ipython",
    "version": 3
   },
   "file_extension": ".py",
   "mimetype": "text/x-python",
   "name": "python",
   "nbconvert_exporter": "python",
   "pygments_lexer": "ipython3",
   "version": "3.11.4"
  },
  "orig_nbformat": 4
 },
 "nbformat": 4,
 "nbformat_minor": 2
}
