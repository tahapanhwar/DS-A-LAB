{
 "cells": [
  {
   "cell_type": "code",
   "execution_count": null,
   "metadata": {},
   "outputs": [],
   "source": [
    "import pandas as pd\n",
    "\n",
    "planets = calories = {\"mercury\":57909*10^3, \"venus\": 509*10^6, \"earth\": 149*10^6, \"mars\":297*10^6, \"jupiter\": 778*10^6,}\n",
    "plantes_Series = pd.Series(planets)\n",
    "plantes_Series\n",
    "\n",
    "# Create a Pandas Series using the above data, with the name of the planets as\n",
    "\n",
    "# the index and the distance from the Sun as your data.\n",
    "\n",
    "distance_from_sun = [149.6, 1433.5, 227.9, 108.2, 778.6]\n",
    "\n",
    "planets = ['Earth','Saturn', 'Mars','Venus', 'Jupiter']\n",
    "\n",
    "dist_planets = pd.Series(distance_from_sun, index = [planets])\n",
    "dist_planets\n",
    "# Calculate the number of minutes it takes sunlight to reach each planet. You can\n",
    "\n",
    "# do this by dividing the distance from the Sun for each planet by the speed of light.\n",
    "\n",
    "# Since in the data above the distance from the Sun is in units of 10^6 km, you can\n",
    "\n",
    "# use a value for the speed of light of c = 18, since light travels 18 x 10^6 km/minute.\n",
    "\n",
    "time_light = dist_planets / 18\n",
    "time_light\n",
    "# Use Boolean indexing to select only those planets for which sunlight takes less\n",
    "\n",
    "# than 40 minutes to reach them.\n",
    "\n",
    "close_planets = pd.Series(planets, index = [True, False, True, True, False])\n",
    "print(close_planets.loc[True])\n"
   ]
  },
  {
   "cell_type": "code",
   "execution_count": 45,
   "metadata": {},
   "outputs": [
    {
     "name": "stdout",
     "output_type": "stream",
     "text": [
      "               authors           Book title  user 1  user 2  user 3  user 4\n",
      "0      Charles Dickens   Great Expectations     3.2     5.0     2.0     4.0\n",
      "1       John Steinbeck      Of Mice and Men     0.0     1.3     2.3     3.5\n",
      "2  William Shakespeare     Romeo and Juliet     2.5     4.0     0.0     4.0\n",
      "3          H. G. Wells     The Time Machine     0.0     3.8     4.0     5.0\n",
      "4        Lewis Carroll  Alice in Wonderland     0.0     0.0     0.0     4.2\n"
     ]
    }
   ],
   "source": [
    "import pandas as pd\n",
    "import numpy as np\n",
    "\n",
    "pd.options.display.max_rows = 5\n",
    "\n",
    "books = pd.Series(data=['Great Expectations', 'Of Mice and Men', 'Romeo and Juliet', 'The Time Machine', 'Alice in Wonderland'])\n",
    "authors = pd.Series(data=['Charles Dickens', 'John Steinbeck', 'William Shakespeare', ' H. G. Wells', 'Lewis Carroll'])\n",
    "user_1 = pd.Series(data=[3.2, np.nan, 2.5])\n",
    "user_2 = pd.Series(data=[5., 1.3, 4.0, 3.8])\n",
    "user_3 = pd.Series(data=[2.0, 2.3, np.nan, 4])\n",
    "user_4 = pd.Series(data=[4, 3.5, 4, 5, 4.2])\n",
    "\n",
    "dat = {'authors': authors, 'Book title': books, 'user 1': user_1, 'user 2': user_2, 'user 3': user_3, 'user 4': user_4}\n",
    "\n",
    "\n",
    "book_Ratings = pd.DataFrame(dat)\n",
    "\n",
    "book_Ratings = book_Ratings.fillna(0)\n",
    "\n",
    "print(book_Ratings)\n"
   ]
  }
 ],
 "metadata": {
  "kernelspec": {
   "display_name": "Python 3",
   "language": "python",
   "name": "python3"
  },
  "language_info": {
   "codemirror_mode": {
    "name": "ipython",
    "version": 3
   },
   "file_extension": ".py",
   "mimetype": "text/x-python",
   "name": "python",
   "nbconvert_exporter": "python",
   "pygments_lexer": "ipython3",
   "version": "3.11.4"
  },
  "orig_nbformat": 4
 },
 "nbformat": 4,
 "nbformat_minor": 2
}
