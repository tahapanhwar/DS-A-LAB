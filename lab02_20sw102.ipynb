{
 "cells": [
  {
   "cell_type": "code",
   "execution_count": 14,
   "metadata": {},
   "outputs": [
    {
     "name": "stdout",
     "output_type": "stream",
     "text": [
      "penguin\n"
     ]
    }
   ],
   "source": [
    "#task \n",
    "points = 190\n",
    "\n",
    "if 0 <= points <= 200:\n",
    "    \n",
    "    num = points\n",
    "    result = \"\"\n",
    "\n",
    "    if num <= 50:\n",
    "        result = \"wooden rabbit\"\n",
    "    elif num >= 51 and num <= 150:\n",
    "        result=\"no prize\" \n",
    "    elif num >= 151 and num <= 180:\n",
    "        result =\"wafer-thin mint\" \n",
    "    elif num >= 181 and num <= 200:\n",
    "        result = \"penguin\"\n",
    "\n",
    "    print(result)\n",
    "else: \n",
    "    print(\"ur points are out of bound.\")\n",
    "    \n",
    "\n",
    "\n",
    "\n"
   ]
  },
  {
   "cell_type": "code",
   "execution_count": 18,
   "metadata": {},
   "outputs": [
    {
     "name": "stdout",
     "output_type": "stream",
     "text": [
      "Nice!  Your guess matched the answer!\n"
     ]
    }
   ],
   "source": [
    "#task 2\n",
    "\n",
    "# '''# You decide you want to play a game where you are hiding # a number from someone.  Store this number in a variable # called 'answer'.  Another user provides a number called# 'guess'.  By comparing guess to answer, you inform the user# if their guess is too high or too low.\n",
    "# Fill in the conditionals below to inform the user about how# their guess compares to the answer.\n",
    "\n",
    "answer = 15\n",
    "guess = 15\n",
    "\n",
    "if answer > guess   :\n",
    "    result = \"Oops!  Your guess was too low.\"\n",
    "elif answer < guess:\n",
    "    result = \"Oops!  Your guess was too high.\"\n",
    "elif answer == guess:\n",
    "    result = \"Nice!  Your guess matched the answer!\"\n",
    "\n",
    "print(result)"
   ]
  },
  {
   "cell_type": "code",
   "execution_count": 20,
   "metadata": {},
   "outputs": [
    {
     "name": "stdout",
     "output_type": "stream",
     "text": [
      "19.35\n"
     ]
    }
   ],
   "source": [
    "#task 3\n",
    "\n",
    "purchaseamount = 18\n",
    "tax_amount = 0\n",
    "state = 'CA'\n",
    "\n",
    "if state =='CA':\n",
    "    tax_amount = 0.075\n",
    "    print(purchaseamount + (purchaseamount*tax_amount))\n",
    "elif state == 'MN':\n",
    "    tax_amount = 0.095\n",
    "    print(purchaseamount + (purchaseamount*tax_amount))\n",
    "elif state == 'NY':\n",
    "    tax_amount = 0.089\n",
    "    print(purchaseamount + (purchaseamount*tax_amount))"
   ]
  },
  {
   "cell_type": "code",
   "execution_count": 27,
   "metadata": {},
   "outputs": [
    {
     "name": "stdout",
     "output_type": "stream",
     "text": [
      "the\n",
      "quick\n",
      "brown\n",
      "fox\n",
      "jumped\n",
      "over\n",
      "the\n",
      "lazy\n",
      "dog\n"
     ]
    }
   ],
   "source": [
    "#task 4\n",
    "sentence = [\"the\", \"quick\", \"brown\", \"fox\", \"jumped\", \"over\", \"the\", \"lazy\", \"dog\"]\n",
    "\n",
    "for i in sentence:\n",
    "    print(i)"
   ]
  },
  {
   "cell_type": "code",
   "execution_count": 39,
   "metadata": {},
   "outputs": [
    {
     "name": "stdout",
     "output_type": "stream",
     "text": [
      "5\n",
      "10\n",
      "15\n",
      "20\n",
      "25\n",
      "30\n"
     ]
    }
   ],
   "source": [
    "\n",
    "#task 5\n",
    "\n",
    "for i in range(5,31,5):\n",
    "    print(i)\n",
    "    \n"
   ]
  },
  {
   "cell_type": "code",
   "execution_count": 45,
   "metadata": {},
   "outputs": [
    {
     "name": "stdout",
     "output_type": "stream",
     "text": [
      "['Rick', 'Morty', 'Summer', 'Jerry', 'Beth']\n"
     ]
    }
   ],
   "source": [
    "#task 6\n",
    "\n",
    "names = [\"Rick Sanchez\", \"Morty Smith\", \"Summer Smith\", \"Jerry Smith\", \"Beth Smith\"]\n",
    "first_names = [x.split()[0] for x in names]\n",
    "print(first_names)"
   ]
  },
  {
   "cell_type": "code",
   "execution_count": 59,
   "metadata": {},
   "outputs": [
    {
     "name": "stdout",
     "output_type": "stream",
     "text": [
      "[3, 6, 9, 12, 15, 18, 21, 24, 27, 30, 33, 36, 39, 42, 45, 48, 51, 54, 57, 60]\n"
     ]
    }
   ],
   "source": [
    "#task 7\n",
    "multiples = [i * 3 for i in range(1, 21)]\n",
    "\n",
    "print(multiples)\n"
   ]
  },
  {
   "cell_type": "code",
   "execution_count": 86,
   "metadata": {},
   "outputs": [
    {
     "name": "stdout",
     "output_type": "stream",
     "text": [
      "['Rick Sanchez', 'Summer Smith', 'Beth Smith']\n"
     ]
    }
   ],
   "source": [
    "#task 8\n",
    "scores = {\"Rick Sanchez\": 70, \"Morty Smith\": 35, \"Summer Smith\": 82, \"Jerry Smith\": 23, \"Beth Smith\": 98}\n",
    "passed = [name for name, score in scores.items() if score >= 65]\n",
    "print(passed)\n"
   ]
  },
  {
   "cell_type": "code",
   "execution_count": 98,
   "metadata": {},
   "outputs": [
    {
     "name": "stdout",
     "output_type": "stream",
     "text": [
      "{72: 'Ted', 68: 'Robin', 66: 'Lily', 76: 'Marshall'}\n"
     ]
    }
   ],
   "source": [
    "#task 9\n",
    "cast_names = [\"Barney\", \"Robin\", \"Ted\", \"Lily\", \"Marshall\"]\n",
    "cast_heights = [72, 68, 72, 66, 76]\n",
    "cast = dict(zip(cast_heights,cast_names))\n",
    "print(cast)"
   ]
  },
  {
   "cell_type": "code",
   "execution_count": 114,
   "metadata": {},
   "outputs": [
    {
     "name": "stdout",
     "output_type": "stream",
     "text": [
      "[76]\n"
     ]
    }
   ],
   "source": [
    "#task 10\n",
    "cast = [\"Barney Stinson\", \"Robin Scherbatsky\", \"Ted Mosby\", \"Lily Aldrin\", \"Marshall Eriksen\"]\n",
    "heights = [72, 68, 72, 66, 76]\n",
    "\n",
    "for index, character in enumerate(cast):\n",
    "    height = heights[index]\n",
    "    cast[index] = f\"{character}{height}\"\n",
    "\n",
    "print(cast)\n",
    "\n"
   ]
  }
 ],
 "metadata": {
  "kernelspec": {
   "display_name": "Python 3",
   "language": "python",
   "name": "python3"
  },
  "language_info": {
   "codemirror_mode": {
    "name": "ipython",
    "version": 3
   },
   "file_extension": ".py",
   "mimetype": "text/x-python",
   "name": "python",
   "nbconvert_exporter": "python",
   "pygments_lexer": "ipython3",
   "version": "3.11.4"
  },
  "orig_nbformat": 4
 },
 "nbformat": 4,
 "nbformat_minor": 2
}
